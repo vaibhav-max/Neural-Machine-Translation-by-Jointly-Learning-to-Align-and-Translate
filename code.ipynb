{
 "cells": [
  {
   "cell_type": "code",
   "execution_count": 27,
   "metadata": {},
   "outputs": [],
   "source": [
    "import torch\n",
    "import torch.nn as nn\n",
    "import numpy as np\n",
    "import math\n"
   ]
  },
  {
   "cell_type": "code",
   "execution_count": 28,
   "metadata": {},
   "outputs": [],
   "source": [
    "class InputEmbedding(nn.Module) :\n",
    "    def __init__(self, d_model, vocab_size) :\n",
    "        super().__init__()\n",
    "        self.d_model = d_model\n",
    "        self.vocab_size = vocab_size\n",
    "        self.embedding = nn.Embedding(vocab_size, d_model)\n",
    "    \n",
    "    def forward(self, x) :\n",
    "        x = self.embedding(x)\n",
    "        x = x * math.sqrt(self.d_model)\n",
    "        return x"
   ]
  },
  {
   "cell_type": "code",
   "execution_count": 29,
   "metadata": {},
   "outputs": [],
   "source": [
    "class Encoder(nn.Module):\n",
    "    def __init__(self, d_model, src_seq_size, encoder_hidden_size, num_layers = 1):\n",
    "        super().__init__()\n",
    "        self.num_layers = num_layers\n",
    "        self.encoder_hidden_size = encoder_hidden_size\n",
    "        self.seq_len = src_seq_size\n",
    "        self.d_model = d_model\n",
    "        self.encoder = nn.GRU(d_model, encoder_hidden_size, num_layers=self.num_layers, batch_first=True)\n",
    "    \n",
    "    def forward(self, x):\n",
    "        encoder_ops, encoder_hidden = self.encoder(x)\n",
    "        return encoder_ops, encoder_hidden[0]"
   ]
  },
  {
   "cell_type": "code",
   "execution_count": 30,
   "metadata": {},
   "outputs": [],
   "source": [
    "batch_size = 32\n",
    "encoder_hidden_size = 2000\n",
    "decoder_hidden_size = 1000\n",
    "src_seq_length = 25\n",
    "d_model = 512\n",
    "src_vocab_size = 1000\n",
    "tgt_vocab_size = 1000\n",
    "\n",
    "x = torch.randint(low=0, high=101, size=(batch_size, src_seq_length), dtype=torch.int)"
   ]
  },
  {
   "cell_type": "code",
   "execution_count": 31,
   "metadata": {},
   "outputs": [
    {
     "name": "stdout",
     "output_type": "stream",
     "text": [
      "torch.Size([32, 25])\n"
     ]
    }
   ],
   "source": [
    "print(x.shape)"
   ]
  },
  {
   "cell_type": "code",
   "execution_count": 32,
   "metadata": {},
   "outputs": [],
   "source": [
    "srcEmbedding = InputEmbedding(d_model= d_model, vocab_size= src_vocab_size)"
   ]
  },
  {
   "cell_type": "code",
   "execution_count": 33,
   "metadata": {},
   "outputs": [],
   "source": [
    "x = srcEmbedding(x)"
   ]
  },
  {
   "cell_type": "code",
   "execution_count": 34,
   "metadata": {},
   "outputs": [
    {
     "name": "stdout",
     "output_type": "stream",
     "text": [
      "torch.Size([32, 25, 512])\n"
     ]
    }
   ],
   "source": [
    "print(x.shape)"
   ]
  },
  {
   "cell_type": "code",
   "execution_count": 35,
   "metadata": {},
   "outputs": [],
   "source": [
    "encoder = Encoder(d_model= d_model,src_seq_size= src_seq_length, encoder_hidden_size= encoder_hidden_size, num_layers= 1)"
   ]
  },
  {
   "cell_type": "code",
   "execution_count": 36,
   "metadata": {},
   "outputs": [],
   "source": [
    "x,y = encoder(x)"
   ]
  },
  {
   "cell_type": "code",
   "execution_count": 37,
   "metadata": {},
   "outputs": [
    {
     "name": "stdout",
     "output_type": "stream",
     "text": [
      "torch.Size([32, 25, 2000]) torch.Size([32, 2000])\n"
     ]
    }
   ],
   "source": [
    "print(x.shape, y.shape)"
   ]
  },
  {
   "cell_type": "code",
   "execution_count": null,
   "metadata": {},
   "outputs": [],
   "source": []
  }
 ],
 "metadata": {
  "kernelspec": {
   "display_name": "Python 3",
   "language": "python",
   "name": "python3"
  },
  "language_info": {
   "codemirror_mode": {
    "name": "ipython",
    "version": 3
   },
   "file_extension": ".py",
   "mimetype": "text/x-python",
   "name": "python",
   "nbconvert_exporter": "python",
   "pygments_lexer": "ipython3",
   "version": "3.10.6"
  },
  "orig_nbformat": 4
 },
 "nbformat": 4,
 "nbformat_minor": 2
}
